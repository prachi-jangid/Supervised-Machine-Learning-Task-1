{
  "nbformat": 4,
  "nbformat_minor": 0,
  "metadata": {
    "colab": {
      "name": "Prachi Jangid Task#1.ipynb",
      "provenance": [],
      "collapsed_sections": [],
      "include_colab_link": true
    },
    "kernelspec": {
      "name": "python3",
      "display_name": "Python 3"
    }
  },
  "cells": [
    {
      "cell_type": "markdown",
      "metadata": {
        "id": "view-in-github",
        "colab_type": "text"
      },
      "source": [
        "<a href=\"https://colab.research.google.com/github/prachi-jangid/Supervised-Machine-Learning-Task-1/blob/main/Prachi_Jangid_Task_1.ipynb\" target=\"_parent\"><img src=\"https://colab.research.google.com/assets/colab-badge.svg\" alt=\"Open In Colab\"/></a>"
      ]
    },
    {
      "cell_type": "markdown",
      "metadata": {
        "id": "l3CC3u9xfMqg"
      },
      "source": [
        "#**Author: Prachi Jangid**\n",
        "\n",
        "\n",
        "\n"
      ]
    },
    {
      "cell_type": "markdown",
      "metadata": {
        "id": "RfJ-hUXTgjm2"
      },
      "source": [
        "**Simple Linear Regression**\n",
        "\n",
        "In this regression task  we will predict the percentage of marks that a student is expected to score based upon the number of hours they studied. This is a simple linear regression task as it involves just two variables.\n",
        "\n",
        "\n"
      ]
    },
    {
      "cell_type": "code",
      "metadata": {
        "id": "3qN7wG2r8jps"
      },
      "source": [
        "# Importing all libraries required in this notebook\n",
        "import numpy as np \n",
        "import pandas as pd\n",
        "import matplotlib.pyplot as plt\n",
        "import seaborn as sb\n",
        "import sklearn"
      ],
      "execution_count": 96,
      "outputs": []
    },
    {
      "cell_type": "code",
      "metadata": {
        "id": "wLxvnV1o_68P"
      },
      "source": [
        "df=pd.read_csv(\"/content/drive/My Drive/Datasets/student_scores.csv\")"
      ],
      "execution_count": 38,
      "outputs": []
    },
    {
      "cell_type": "code",
      "metadata": {
        "id": "LhLuGA_xXFwB",
        "outputId": "a3ae6f67-bc7f-4a3d-eb35-e0e1c89bdddf",
        "colab": {
          "base_uri": "https://localhost:8080/"
        }
      },
      "source": [
        "from google.colab import drive\n",
        "drive.mount('/content/drive')"
      ],
      "execution_count": 39,
      "outputs": [
        {
          "output_type": "stream",
          "text": [
            "Drive already mounted at /content/drive; to attempt to forcibly remount, call drive.mount(\"/content/drive\", force_remount=True).\n"
          ],
          "name": "stdout"
        }
      ]
    },
    {
      "cell_type": "code",
      "metadata": {
        "id": "tcJJ33N_AKmy",
        "outputId": "2964f653-5701-4280-86d9-5cc080376229",
        "colab": {
          "base_uri": "https://localhost:8080/",
          "height": 196
        }
      },
      "source": [
        "df.head()"
      ],
      "execution_count": 40,
      "outputs": [
        {
          "output_type": "execute_result",
          "data": {
            "text/html": [
              "<div>\n",
              "<style scoped>\n",
              "    .dataframe tbody tr th:only-of-type {\n",
              "        vertical-align: middle;\n",
              "    }\n",
              "\n",
              "    .dataframe tbody tr th {\n",
              "        vertical-align: top;\n",
              "    }\n",
              "\n",
              "    .dataframe thead th {\n",
              "        text-align: right;\n",
              "    }\n",
              "</style>\n",
              "<table border=\"1\" class=\"dataframe\">\n",
              "  <thead>\n",
              "    <tr style=\"text-align: right;\">\n",
              "      <th></th>\n",
              "      <th>Hours</th>\n",
              "      <th>Scores</th>\n",
              "    </tr>\n",
              "  </thead>\n",
              "  <tbody>\n",
              "    <tr>\n",
              "      <th>0</th>\n",
              "      <td>2.5</td>\n",
              "      <td>21</td>\n",
              "    </tr>\n",
              "    <tr>\n",
              "      <th>1</th>\n",
              "      <td>5.1</td>\n",
              "      <td>47</td>\n",
              "    </tr>\n",
              "    <tr>\n",
              "      <th>2</th>\n",
              "      <td>3.2</td>\n",
              "      <td>27</td>\n",
              "    </tr>\n",
              "    <tr>\n",
              "      <th>3</th>\n",
              "      <td>8.5</td>\n",
              "      <td>75</td>\n",
              "    </tr>\n",
              "    <tr>\n",
              "      <th>4</th>\n",
              "      <td>3.5</td>\n",
              "      <td>30</td>\n",
              "    </tr>\n",
              "  </tbody>\n",
              "</table>\n",
              "</div>"
            ],
            "text/plain": [
              "   Hours  Scores\n",
              "0    2.5      21\n",
              "1    5.1      47\n",
              "2    3.2      27\n",
              "3    8.5      75\n",
              "4    3.5      30"
            ]
          },
          "metadata": {
            "tags": []
          },
          "execution_count": 40
        }
      ]
    },
    {
      "cell_type": "code",
      "metadata": {
        "id": "9n9vRb8FAmHf",
        "outputId": "a36ff46a-fd6c-4e3c-bb24-78dedf7b2d61",
        "colab": {
          "base_uri": "https://localhost:8080/"
        }
      },
      "source": [
        "print(\"rows,columns:\",str(df.shape))"
      ],
      "execution_count": 41,
      "outputs": [
        {
          "output_type": "stream",
          "text": [
            "rows,columns: (25, 2)\n"
          ],
          "name": "stdout"
        }
      ]
    },
    {
      "cell_type": "code",
      "metadata": {
        "id": "ytXEEleaBFF7",
        "outputId": "520fdd6c-12c6-419d-a5ef-6b1928af9a91",
        "colab": {
          "base_uri": "https://localhost:8080/"
        }
      },
      "source": [
        "df.isna().sum()"
      ],
      "execution_count": 42,
      "outputs": [
        {
          "output_type": "execute_result",
          "data": {
            "text/plain": [
              "Hours     0\n",
              "Scores    0\n",
              "dtype: int64"
            ]
          },
          "metadata": {
            "tags": []
          },
          "execution_count": 42
        }
      ]
    },
    {
      "cell_type": "code",
      "metadata": {
        "id": "Mj4vESvYBMOt",
        "outputId": "9a005fa9-bdc0-4305-dffa-a0d1471de5b0",
        "colab": {
          "base_uri": "https://localhost:8080/"
        }
      },
      "source": [
        "df.info()"
      ],
      "execution_count": 43,
      "outputs": [
        {
          "output_type": "stream",
          "text": [
            "<class 'pandas.core.frame.DataFrame'>\n",
            "RangeIndex: 25 entries, 0 to 24\n",
            "Data columns (total 2 columns):\n",
            " #   Column  Non-Null Count  Dtype  \n",
            "---  ------  --------------  -----  \n",
            " 0   Hours   25 non-null     float64\n",
            " 1   Scores  25 non-null     int64  \n",
            "dtypes: float64(1), int64(1)\n",
            "memory usage: 528.0 bytes\n"
          ],
          "name": "stdout"
        }
      ]
    },
    {
      "cell_type": "code",
      "metadata": {
        "id": "zRpesK_fBSQr",
        "outputId": "74db5ad8-c14d-4dd6-f33f-3d4583b41f1f",
        "colab": {
          "base_uri": "https://localhost:8080/",
          "height": 286
        }
      },
      "source": [
        "df.describe()"
      ],
      "execution_count": 44,
      "outputs": [
        {
          "output_type": "execute_result",
          "data": {
            "text/html": [
              "<div>\n",
              "<style scoped>\n",
              "    .dataframe tbody tr th:only-of-type {\n",
              "        vertical-align: middle;\n",
              "    }\n",
              "\n",
              "    .dataframe tbody tr th {\n",
              "        vertical-align: top;\n",
              "    }\n",
              "\n",
              "    .dataframe thead th {\n",
              "        text-align: right;\n",
              "    }\n",
              "</style>\n",
              "<table border=\"1\" class=\"dataframe\">\n",
              "  <thead>\n",
              "    <tr style=\"text-align: right;\">\n",
              "      <th></th>\n",
              "      <th>Hours</th>\n",
              "      <th>Scores</th>\n",
              "    </tr>\n",
              "  </thead>\n",
              "  <tbody>\n",
              "    <tr>\n",
              "      <th>count</th>\n",
              "      <td>25.000000</td>\n",
              "      <td>25.000000</td>\n",
              "    </tr>\n",
              "    <tr>\n",
              "      <th>mean</th>\n",
              "      <td>5.012000</td>\n",
              "      <td>51.480000</td>\n",
              "    </tr>\n",
              "    <tr>\n",
              "      <th>std</th>\n",
              "      <td>2.525094</td>\n",
              "      <td>25.286887</td>\n",
              "    </tr>\n",
              "    <tr>\n",
              "      <th>min</th>\n",
              "      <td>1.100000</td>\n",
              "      <td>17.000000</td>\n",
              "    </tr>\n",
              "    <tr>\n",
              "      <th>25%</th>\n",
              "      <td>2.700000</td>\n",
              "      <td>30.000000</td>\n",
              "    </tr>\n",
              "    <tr>\n",
              "      <th>50%</th>\n",
              "      <td>4.800000</td>\n",
              "      <td>47.000000</td>\n",
              "    </tr>\n",
              "    <tr>\n",
              "      <th>75%</th>\n",
              "      <td>7.400000</td>\n",
              "      <td>75.000000</td>\n",
              "    </tr>\n",
              "    <tr>\n",
              "      <th>max</th>\n",
              "      <td>9.200000</td>\n",
              "      <td>95.000000</td>\n",
              "    </tr>\n",
              "  </tbody>\n",
              "</table>\n",
              "</div>"
            ],
            "text/plain": [
              "           Hours     Scores\n",
              "count  25.000000  25.000000\n",
              "mean    5.012000  51.480000\n",
              "std     2.525094  25.286887\n",
              "min     1.100000  17.000000\n",
              "25%     2.700000  30.000000\n",
              "50%     4.800000  47.000000\n",
              "75%     7.400000  75.000000\n",
              "max     9.200000  95.000000"
            ]
          },
          "metadata": {
            "tags": []
          },
          "execution_count": 44
        }
      ]
    },
    {
      "cell_type": "markdown",
      "metadata": {
        "id": "eFGqtRxLlWay"
      },
      "source": [
        "**Let's plot our data points on 2-D graph to eyeball our dataset and see if we can manually find any relationship between the data. We can create the plot with the following script**"
      ]
    },
    {
      "cell_type": "code",
      "metadata": {
        "id": "DlcRMPwNBYTa",
        "outputId": "661a665c-bb7a-408b-a702-864bff167254",
        "colab": {
          "base_uri": "https://localhost:8080/",
          "height": 421
        }
      },
      "source": [
        "graph=plt.figure(figsize=(8,6))\n",
        "sb.scatterplot(x='Hours',y=\"Scores\",data=df)\n",
        "plt.title('Hours vs Percentage')"
      ],
      "execution_count": 45,
      "outputs": [
        {
          "output_type": "execute_result",
          "data": {
            "text/plain": [
              "Text(0.5, 1.0, 'Hours vs Percentage')"
            ]
          },
          "metadata": {
            "tags": []
          },
          "execution_count": 45
        },
        {
          "output_type": "display_data",
          "data": {
            "image/png": "[encoded data removed]",
            "text/plain": [
              "<Figure size 576x432 with 1 Axes>"
            ]
          },
          "metadata": {
            "tags": [],
            "needs_background": "light"
          }
        }
      ]
    },
    {
      "cell_type": "markdown",
      "metadata": {
        "id": "tO5lJOm8mhZQ"
      },
      "source": [
        "From the graph above, we can clearly see that there is a positive linear relation between the number of hours studied and percentage of score."
      ]
    },
    {
      "cell_type": "markdown",
      "metadata": {
        "id": "oM2R77Dzms_w"
      },
      "source": [
        "**Preparing the data**"
      ]
    },
    {
      "cell_type": "markdown",
      "metadata": {
        "id": "xOCqseTlm7IW"
      },
      "source": [
        "Now that we have our attributes and labels, the next step is to split this data into training and test sets. We'll do this by using Scikit-Learn's built-in train_test_split() method:"
      ]
    },
    {
      "cell_type": "code",
      "metadata": {
        "id": "Q4sHoCDACYHJ"
      },
      "source": [
        "x=df['Hours']\n",
        "y=df['Scores']"
      ],
      "execution_count": 46,
      "outputs": []
    },
    {
      "cell_type": "code",
      "metadata": {
        "id": "OS6cIz8sEYua"
      },
      "source": [
        "from sklearn.model_selection import train_test_split \n",
        "x_train, x_test, y_train, y_test = train_test_split(x,y,test_size=0.2,random_state=6)\n"
      ],
      "execution_count": 47,
      "outputs": []
    },
    {
      "cell_type": "code",
      "metadata": {
        "id": "FEqENPpFFEa2"
      },
      "source": [
        " from sklearn.linear_model import LinearRegression"
      ],
      "execution_count": 48,
      "outputs": []
    },
    {
      "cell_type": "markdown",
      "metadata": {
        "id": "DxZiSUBpneRd"
      },
      "source": [
        " Training the Algorithm\n",
        "\n",
        " We have split our data into training and testing sets, and now is finally the time to train our algorithm."
      ]
    },
    {
      "cell_type": "code",
      "metadata": {
        "id": "_CqSAAsxGhdq"
      },
      "source": [
        "model=LinearRegression()\n",
        "x_train=x_train.reshape(-1,1)\n",
        "y_train=y_train.reshape(-1,1)\n",
        "x_test=x_test.reshape(-1,1)\n",
        "y_test=y_test.values.reshape(-1,1)"
      ],
      "execution_count": 58,
      "outputs": []
    },
    {
      "cell_type": "code",
      "metadata": {
        "id": "pb5umqjhG6cx",
        "outputId": "92f5b8f3-9e97-4b46-b085-bafa2256b432",
        "colab": {
          "base_uri": "https://localhost:8080/"
        }
      },
      "source": [
        "model.fit(x_train,y_train)"
      ],
      "execution_count": 59,
      "outputs": [
        {
          "output_type": "execute_result",
          "data": {
            "text/plain": [
              "LinearRegression(copy_X=True, fit_intercept=True, n_jobs=None, normalize=False)"
            ]
          },
          "metadata": {
            "tags": []
          },
          "execution_count": 59
        }
      ]
    },
    {
      "cell_type": "markdown",
      "metadata": {
        "id": "VZ1XVxaXF9Lf"
      },
      "source": [
        " Plotting the regression line"
      ]
    },
    {
      "cell_type": "code",
      "metadata": {
        "id": "NiYUketWFrBK"
      },
      "source": [
        "line = model.coef_*x_train+model.intercept_\n"
      ],
      "execution_count": 67,
      "outputs": []
    },
    {
      "cell_type": "markdown",
      "metadata": {
        "id": "VpDzKTKpGPHR"
      },
      "source": [
        "Plotting for the test data"
      ]
    },
    {
      "cell_type": "code",
      "metadata": {
        "id": "Z5Y0fyntFrWm",
        "outputId": "04a98c72-4af9-4616-ada2-cef30be159be",
        "colab": {
          "base_uri": "https://localhost:8080/",
          "height": 265
        }
      },
      "source": [
        "plt.scatter(x_train,y_train)\n",
        "plt.plot(x_train,line)\n",
        "plt.show()"
      ],
      "execution_count": 70,
      "outputs": [
        {
          "output_type": "display_data",
          "data": {
            "image/png": "[encoded data removed]",
            "text/plain": [
              "<Figure size 432x288 with 1 Axes>"
            ]
          },
          "metadata": {
            "tags": [],
            "needs_background": "light"
          }
        }
      ]
    },
    {
      "cell_type": "code",
      "metadata": {
        "id": "lb7342PsUraC",
        "outputId": "b1be06f9-faab-4cd5-beae-4c62caefaf80",
        "colab": {
          "base_uri": "https://localhost:8080/",
          "height": 265
        }
      },
      "source": [
        "line1 = model.coef_*x_test+model.intercept_\n",
        "plt.scatter(x_test,y_test)\n",
        "plt.plot(x_test,line1)\n",
        "plt.show()"
      ],
      "execution_count": 73,
      "outputs": [
        {
          "output_type": "display_data",
          "data": {
            "image/png": "[encoded data removed]",
            "text/plain": [
              "<Figure size 432x288 with 1 Axes>"
            ]
          },
          "metadata": {
            "tags": [],
            "needs_background": "light"
          }
        }
      ]
    },
    {
      "cell_type": "code",
      "metadata": {
        "id": "2dVR-dTpWaBb",
        "outputId": "f57011e3-23f0-4568-92df-70817e801c28",
        "colab": {
          "base_uri": "https://localhost:8080/"
        }
      },
      "source": [
        "y_pred = model.predict(x_test)\n",
        "y_pred"
      ],
      "execution_count": 85,
      "outputs": [
        {
          "output_type": "execute_result",
          "data": {
            "text/plain": [
              "array([[39.59421488],\n",
              "       [56.68453365],\n",
              "       [16.47201889],\n",
              "       [93.8811098 ],\n",
              "       [84.83329398]])"
            ]
          },
          "metadata": {
            "tags": []
          },
          "execution_count": 85
        }
      ]
    },
    {
      "cell_type": "code",
      "metadata": {
        "id": "C_nzwFkzedbB",
        "outputId": "f923fd92-7552-40a3-8f85-cdec5df1fb03",
        "colab": {
          "base_uri": "https://localhost:8080/"
        }
      },
      "source": [
        "y_test"
      ],
      "execution_count": 90,
      "outputs": [
        {
          "output_type": "execute_result",
          "data": {
            "text/plain": [
              "array([[35],\n",
              "       [60],\n",
              "       [20],\n",
              "       [88],\n",
              "       [81]])"
            ]
          },
          "metadata": {
            "tags": []
          },
          "execution_count": 90
        }
      ]
    },
    {
      "cell_type": "markdown",
      "metadata": {
        "id": "mxzG4CeKfkGq"
      },
      "source": [
        "Comparing Actual vs Predicted"
      ]
    },
    {
      "cell_type": "code",
      "metadata": {
        "id": "sNOOrL5CXpIY",
        "outputId": "d1e8a810-bc89-4db4-ffcf-b34a1c3295b7",
        "colab": {
          "base_uri": "https://localhost:8080/",
          "height": 196
        }
      },
      "source": [
        "data={'Actual': y_test.flatten(), 'Predicted': y_pred.flatten()} #flatten to convert into 1-D array.\n",
        "labels=['0','1','2','3','4']\n",
        "df = pd.DataFrame(data,index=labels)\n",
        "df "
      ],
      "execution_count": 95,
      "outputs": [
        {
          "output_type": "execute_result",
          "data": {
            "text/html": [
              "<div>\n",
              "<style scoped>\n",
              "    .dataframe tbody tr th:only-of-type {\n",
              "        vertical-align: middle;\n",
              "    }\n",
              "\n",
              "    .dataframe tbody tr th {\n",
              "        vertical-align: top;\n",
              "    }\n",
              "\n",
              "    .dataframe thead th {\n",
              "        text-align: right;\n",
              "    }\n",
              "</style>\n",
              "<table border=\"1\" class=\"dataframe\">\n",
              "  <thead>\n",
              "    <tr style=\"text-align: right;\">\n",
              "      <th></th>\n",
              "      <th>Actual</th>\n",
              "      <th>Predicted</th>\n",
              "    </tr>\n",
              "  </thead>\n",
              "  <tbody>\n",
              "    <tr>\n",
              "      <th>0</th>\n",
              "      <td>35</td>\n",
              "      <td>39.594215</td>\n",
              "    </tr>\n",
              "    <tr>\n",
              "      <th>1</th>\n",
              "      <td>60</td>\n",
              "      <td>56.684534</td>\n",
              "    </tr>\n",
              "    <tr>\n",
              "      <th>2</th>\n",
              "      <td>20</td>\n",
              "      <td>16.472019</td>\n",
              "    </tr>\n",
              "    <tr>\n",
              "      <th>3</th>\n",
              "      <td>88</td>\n",
              "      <td>93.881110</td>\n",
              "    </tr>\n",
              "    <tr>\n",
              "      <th>4</th>\n",
              "      <td>81</td>\n",
              "      <td>84.833294</td>\n",
              "    </tr>\n",
              "  </tbody>\n",
              "</table>\n",
              "</div>"
            ],
            "text/plain": [
              "   Actual  Predicted\n",
              "0      35  39.594215\n",
              "1      60  56.684534\n",
              "2      20  16.472019\n",
              "3      88  93.881110\n",
              "4      81  84.833294"
            ]
          },
          "metadata": {
            "tags": []
          },
          "execution_count": 95
        }
      ]
    },
    {
      "cell_type": "markdown",
      "metadata": {
        "id": "1O3H8CyPgjmj"
      },
      "source": [
        "For own data"
      ]
    },
    {
      "cell_type": "code",
      "metadata": {
        "id": "iH9cVCFEgnVN",
        "outputId": "2a791cdd-d6dd-4cd8-9e0f-de0886824042",
        "colab": {
          "base_uri": "https://localhost:8080/"
        }
      },
      "source": [
        "hour1=np.array([9.5])\n",
        "own_pred=model.predict(hour1.reshape(-1,1))\n",
        "print(\"No of Hours = {}\\n\".format(hour1))\n",
        "print(\"Predicted Score = {}\\n\".format(own_pred))\n"
      ],
      "execution_count": 106,
      "outputs": [
        {
          "output_type": "stream",
          "text": [
            "No of Hours = [9.5]\n",
            "\n",
            "Predicted Score = [[96.89704841]]\n",
            "\n"
          ],
          "name": "stdout"
        }
      ]
    },
    {
      "cell_type": "markdown",
      "metadata": {
        "id": "DyCuvX_UcAso"
      },
      "source": [
        "Evaluating the model\n",
        "\n",
        "The final step is to evaluate the performance of algorithm. This step is particularly important to compare how well different algorithms perform on a particular dataset. For simplicity here, we have chosen the mean square error. There are many such metrics."
      ]
    },
    {
      "cell_type": "code",
      "metadata": {
        "id": "QnhUnfb8Wacn"
      },
      "source": [
        "from sklearn import metrics\n",
        "mae = sklearn.metrics.mean_absolute_error(y_test,y_pred)\n"
      ],
      "execution_count": 107,
      "outputs": []
    },
    {
      "cell_type": "code",
      "metadata": {
        "id": "Qib3u929Xn55",
        "outputId": "3df7baed-f642-4314-b30d-98d95b76cf69",
        "colab": {
          "base_uri": "https://localhost:8080/"
        }
      },
      "source": [
        "mae"
      ],
      "execution_count": 108,
      "outputs": [
        {
          "output_type": "execute_result",
          "data": {
            "text/plain": [
              "4.2304132231404825"
            ]
          },
          "metadata": {
            "tags": []
          },
          "execution_count": 108
        }
      ]
    },
    {
      "cell_type": "markdown",
      "metadata": {
        "id": "7XbsKxHbkPnH"
      },
      "source": [
        "Model Score"
      ]
    },
    {
      "cell_type": "markdown",
      "metadata": {
        "id": "7TAMoQINk39D"
      },
      "source": [
        ""
      ]
    },
    {
      "cell_type": "code",
      "metadata": {
        "id": "26qrDup4bzD7",
        "outputId": "ab527a40-ddcf-497c-cac5-4ccdee44bda3",
        "colab": {
          "base_uri": "https://localhost:8080/"
        }
      },
      "source": [
        "model.score(x_train,y_train)#for train data"
      ],
      "execution_count": 110,
      "outputs": [
        {
          "output_type": "execute_result",
          "data": {
            "text/plain": [
              "0.9454367725240986"
            ]
          },
          "metadata": {
            "tags": []
          },
          "execution_count": 110
        }
      ]
    },
    {
      "cell_type": "code",
      "metadata": {
        "id": "DG3hrzQmJKqw",
        "outputId": "dee30196-3175-4f10-d5a4-74446cb8d38d",
        "colab": {
          "base_uri": "https://localhost:8080/"
        }
      },
      "source": [
        "model.score(x_test,y_test)#fror test data"
      ],
      "execution_count": 113,
      "outputs": [
        {
          "output_type": "execute_result",
          "data": {
            "text/plain": [
              "0.9723939704109645"
            ]
          },
          "metadata": {
            "tags": []
          },
          "execution_count": 113
        }
      ]
    }
  ]
}